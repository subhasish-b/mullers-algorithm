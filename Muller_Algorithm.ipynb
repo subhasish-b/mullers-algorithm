{
 "cells": [
  {
   "cell_type": "code",
   "execution_count": 107,
   "metadata": {
    "collapsed": true
   },
   "outputs": [],
   "source": [
    "import math"
   ]
  },
  {
   "cell_type": "code",
   "execution_count": 114,
   "metadata": {
    "collapsed": true
   },
   "outputs": [],
   "source": [
    "def f(x): #Defined the given function\n",
    "    return ((x**3)-(32*x)+8)"
   ]
  },
  {
   "cell_type": "code",
   "execution_count": 115,
   "metadata": {
    "collapsed": true
   },
   "outputs": [],
   "source": [
    "#Given Initial Values\n",
    "x0 , x1, x2 = 7, 6, 1\n",
    "allowed_error = 0.0005"
   ]
  },
  {
   "cell_type": "code",
   "execution_count": 118,
   "metadata": {
    "collapsed": false,
    "deletable": true,
    "editable": true
   },
   "outputs": [
    {
     "name": "stdout",
     "output_type": "stream",
     "text": [
      "0.250491164826858\n"
     ]
    }
   ],
   "source": [
    "#Mullers Algorith Implementation\n",
    "flag = 0\n",
    "while(flag == 0):\n",
    "    h0 = x1 - x0\n",
    "    h1 = x2 - x1\n",
    "    del0 = (f(x1) - f(x0))/h0\n",
    "    del1 = (f(x2) - f(x1))/h1\n",
    "    a = (del1 - del0)/(h1 + h0)\n",
    "    b = (a*h1) + del1\n",
    "    c = f(x2)\n",
    "    \n",
    "    if (b < 0):\n",
    "        x3 = x2 + (((-2)*c) / (b - math.sqrt((b**2)-4*a*c)))\n",
    "    else:\n",
    "        x3 = x2 + (((-2)*c) / (b + math.sqrt((b**2)-4*a*c)))\n",
    "        \n",
    "    e = (x2-x3)/x3\n",
    "    if(e < 0):\n",
    "        e = e*(-1)\n",
    "    \n",
    "    if (e <= allowed_error ):\n",
    "        flag = 1\n",
    "    else:\n",
    "        x0 = x1\n",
    "        x1 = x2\n",
    "        x2 = x3\n",
    "    \n",
    "#Printing the root\n",
    "print(x3)"
   ]
  },
  {
   "cell_type": "code",
   "execution_count": null,
   "metadata": {
    "collapsed": true
   },
   "outputs": [],
   "source": []
  }
 ],
 "metadata": {
  "kernelspec": {
   "display_name": "Python 3",
   "language": "python",
   "name": "python3"
  },
  "language_info": {
   "codemirror_mode": {
    "name": "ipython",
    "version": 3
   },
   "file_extension": ".py",
   "mimetype": "text/x-python",
   "name": "python",
   "nbconvert_exporter": "python",
   "pygments_lexer": "ipython3",
   "version": "3.5.2"
  }
 },
 "nbformat": 4,
 "nbformat_minor": 2
}
